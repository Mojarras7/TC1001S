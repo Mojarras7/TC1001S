{
    "cells": [
        {
            "cell_type": "code",
            "execution_count": null,
            "metadata": {
                "id": "e89d3ef0",
                "language": "python"
            },
            "outputs": [],
            "source": [
                "#import necessary libraries\n",
                "import cv2\n",
                "import pytesseract\n",
                "from matplotlib import pyplot as plt\n",
                "from tkinter import Tk\n",
                "from tkinter.filedialog import askopenfilename\n"
            ]
        },
        {
            "cell_type": "code",
            "execution_count": null,
            "metadata": {
                "id": "683e2d3a",
                "language": "python"
            },
            "outputs": [],
            "source": [
                "\n",
                "# ========== LOAD IMAGE ==========\n",
                "# Open a file dialog to select an image\n",
                "Tk().withdraw()  # Hide the root Tkinter window\n",
                "file_name = askopenfilename(title=\"Select an image file\", filetypes=[(\"Image files\", \"*.jpg *.jpeg *.png *.bmp\")])\n",
                "\n",
                "# Read the selected image\n",
                "imagen = cv2.imread(file_name)\n",
                "\n",
                "# Convert the image to grayscale\n",
                "gris = cv2.cvtColor(imagen, cv2.COLOR_BGR2GRAY)\n",
                "\n",
                "# Apply Gaussian blur to smooth the image\n",
                "suavizada = cv2.GaussianBlur(gris, (7, 7), 0)\n",
                "\n",
                "# Edge detection using Canny algorithm\n",
                "bordes = cv2.Canny(suavizada, 100, 200)\n",
                "\n",
                "# Convert the image to RGB format for matplotlib\n",
                "imagen_rgb = cv2.cvtColor(imagen, cv2.COLOR_BGR2RGB)\n",
                "\n",
                "# ======= OCR (Text Recognition) =======\n",
                "# Perform OCR on the smoothed image (psm 8 = single line of text)\n",
                "texto_detectado = pytesseract.image_to_string(suavizada, config='--psm 8')\n",
                "\n",
                "# Print the detected text\n",
                "print(\"🔍 Detected text in the image:\", texto_detectado.strip())\n",
                "\n",
                "# ========== DISPLAY RESULTS ==========\n",
                "plt.figure(figsize=(18, 6))\n",
                "\n",
                "# Display the original image in RGB format\n",
                "plt.subplot(1, 3, 1)\n",
                "plt.title(\"Original (RGB)\")\n",
                "plt.imshow(imagen_rgb)\n",
                "plt.axis('off')\n",
                "\n",
                "# Display the blurred image\n",
                "plt.subplot(1, 3, 2)\n",
                "plt.title(\"Blur\")\n",
                "plt.imshow(suavizada, cmap='gray')\n",
                "plt.axis('off')\n",
                "\n",
                "# Display the edges detected using Canny\n",
                "plt.subplot(1, 3, 3)\n",
                "plt.title(\"Canny\")\n",
                "plt.imshow(bordes, cmap='gray')\n",
                "plt.axis('off')\n",
                "\n",
                "# Show the plots\n",
                "plt.show()\n"
            ]
        }
    ],
    "metadata": {
        "kernelspec": {
            "display_name": "Python 3",
            "language": "python",
            "name": "python3"
        },
        "language_info": {
            "codemirror_mode": {
                "name": "ipython",
                "version": 3
            },
            "file_extension": ".py",
            "mimetype": "text/x-python",
            "name": "python",
            "nbconvert_exporter": "python",
            "pygments_lexer": "ipython3",
            "version": "3.10.12"
        }
    },
    "nbformat": 4,
    "nbformat_minor": 4
}
